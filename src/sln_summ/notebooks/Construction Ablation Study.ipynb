{
 "cells": [
  {
   "cell_type": "code",
   "execution_count": 87,
   "metadata": {},
   "outputs": [
    {
     "name": "stdout",
     "output_type": "stream",
     "text": [
      "The autoreload extension is already loaded. To reload it, use:\n",
      "  %reload_ext autoreload\n"
     ]
    }
   ],
   "source": [
    "text = \"Our neighbour, Captain Charles Alison, will sail from Portsmouth tomorrow. We will meet him at the harbour early in the morning. He will be in his small boat, Topsail. Topsail is a famous little boat. It has sailed across the Atlantic many times. Captain Alison will set out at eight oclock, so we will have plenty of time. We will see his boat and then we will say goodbye to him. He will be away for two months. We are very proud of him. He will take part in an important race across the Atlantic.\"\n",
    "\n",
    "import sys\n",
    "sys.path.append(\"/home/ubuntu/SLN-Summarization/src/\")\n",
    "\n",
    "%load_ext autoreload\n",
    "%autoreload 2\n",
    "\n",
    "import itertools\n",
    "from sln_summ.corpus import *\n",
    "from sln_summ.metrics import rouge_score\n",
    "from sln_summ.summarizers import *\n",
    "from sln_summ.tokenizer import tokenize_sentences_and_words\n",
    "from sln_summ.sln_construction import *"
   ]
  },
  {
   "cell_type": "code",
   "execution_count": 36,
   "metadata": {},
   "outputs": [
    {
     "data": {
      "text/plain": [
       "<function sln_summ.sln_construction.make_sln_noun_verb_pronoun_rich(words, additional_links=None, additional_funcs=None, *args, **kwargs)>"
      ]
     },
     "execution_count": 36,
     "metadata": {},
     "output_type": "execute_result"
    }
   ],
   "source": [
    "make_sln_noun_verb_pronoun_rich"
   ]
  },
  {
   "cell_type": "code",
   "execution_count": 23,
   "metadata": {},
   "outputs": [
    {
     "data": {
      "text/plain": [
       "\"Our neighbour, Captain Charles Alison, will sail from Portsmouth tomorrow. We will meet him at the harbour early in the morning. He will be in his small boat, Topsail. Topsail is a famous little boat. It has sailed across the Atlantic many times. Captain Alison will set out at eight oclock, so we will have plenty of time. We will see his boat and then we'll say goodbye to him. He will be away for two months. We are very proud of him. He will take part in an important race across the Atlantic.\""
      ]
     },
     "execution_count": 23,
     "metadata": {},
     "output_type": "execute_result"
    }
   ],
   "source": [
    "text"
   ]
  },
  {
   "cell_type": "code",
   "execution_count": 33,
   "metadata": {},
   "outputs": [
    {
     "name": "stdout",
     "output_type": "stream",
     "text": [
      "[('neighbour', _CO_OCC: , 'captain'), ('neighbour', _PARTOF: , 'neighbour captain charles'), ('neighbour', _CO_OCC: , 'captain charles'), ('captain', _CO_OCC: , 'charles'), ('captain', _PARTOF: , 'neighbour captain charles')]\n",
      "[('captain', _CO_OCC: , 'charles'), ('captain', _PARTOF: , 'captain charles')]\n",
      "[('boat', _CO_OCC: , 'topsail'), ('boat', _PARTOF: , 'boat topsail')]\n",
      "[('captain', _CO_OCC: , 'alison'), ('captain', _PARTOF: , 'captain alison')]\n"
     ]
    }
   ],
   "source": [
    "slns = [make_sln_noun_verb_pronoun_prep(words, decompose=True) for words in tokenize_sentences_and_words(text, remove_stop=False, lower=True)]"
   ]
  },
  {
   "cell_type": "code",
   "execution_count": 113,
   "metadata": {},
   "outputs": [
    {
     "name": "stdout",
     "output_type": "stream",
     "text": [
      "[('neighbour', _CO_OCC: , 'captain'), ('neighbour', _PARTOF: , 'neighbour captain charles'), ('neighbour', _CO_OCC: , 'captain charles'), ('captain', _CO_OCC: , 'charles'), ('captain', _PARTOF: , 'neighbour captain charles')]\n",
      "[('captain', _CO_OCC: , 'charles'), ('captain', _PARTOF: , 'captain charles')]\n",
      "[('small', _CO_OCC: , 'boat'), ('small', _PARTOF: , 'small boat topsail'), ('small', _CO_OCC: , 'boat topsail'), ('boat', _CO_OCC: , 'topsail'), ('boat', _PARTOF: , 'small boat topsail')]\n",
      "[('boat', _CO_OCC: , 'topsail'), ('boat', _PARTOF: , 'boat topsail')]\n",
      "[('famous', _CO_OCC: , 'little'), ('famous', _PARTOF: , 'famous little boat'), ('famous', _CO_OCC: , 'little boat'), ('little', _CO_OCC: , 'boat'), ('little', _PARTOF: , 'famous little boat')]\n",
      "[('little', _CO_OCC: , 'boat'), ('little', _PARTOF: , 'little boat')]\n",
      "[('atlantic', _CO_OCC: , 'many'), ('atlantic', _PARTOF: , 'atlantic many times'), ('atlantic', _CO_OCC: , 'many times'), ('many', _CO_OCC: , 'times'), ('many', _PARTOF: , 'atlantic many times')]\n",
      "[('many', _CO_OCC: , 'times'), ('many', _PARTOF: , 'many times')]\n",
      "[('captain', _CO_OCC: , 'alison'), ('captain', _PARTOF: , 'captain alison')]\n",
      "[('very', _CO_OCC: , 'proud'), ('very', _PARTOF: , 'very proud')]\n",
      "[('important', _CO_OCC: , 'race'), ('important', _PARTOF: , 'important race')]\n"
     ]
    }
   ],
   "source": [
    "slns = [make_sln_noun_verb_pronoun_prep_adj_adv(words, decompose=True) for words in tokenize_sentences_and_words(text, remove_stop=False, lower=True)]"
   ]
  },
  {
   "cell_type": "code",
   "execution_count": 106,
   "metadata": {},
   "outputs": [],
   "source": [
    "for sln in slns:\n",
    "    sln.apply_reasoning()"
   ]
  },
  {
   "cell_type": "code",
   "execution_count": 114,
   "metadata": {},
   "outputs": [],
   "source": [
    "merged_sln = sum(slns, start=SLN([]))"
   ]
  },
  {
   "cell_type": "code",
   "execution_count": 115,
   "metadata": {
    "scrolled": false
   },
   "outputs": [
    {
     "name": "stdout",
     "output_type": "stream",
     "text": [
      "CREATE (boat:NODE {name: 'boat'})\n",
      "CREATE (we:NODE {name: 'we'})\n",
      "CREATE (captain:NODE {name: 'captain'})\n",
      "CREATE (neighbour_captain_charles:NODE {name: 'neighbour captain charles'})\n",
      "CREATE (little:NODE {name: 'little'})\n",
      "CREATE (famous_little_boat:NODE {name: 'famous little boat'})\n",
      "CREATE (many:NODE {name: 'many'})\n",
      "CREATE (very_proud:NODE {name: 'very proud'})\n",
      "CREATE (him:NODE {name: 'him'})\n",
      "CREATE (small_boat_topsail:NODE {name: 'small boat topsail'})\n",
      "CREATE (atlantic_many_times:NODE {name: 'atlantic many times'})\n",
      "CREATE (important_race:NODE {name: 'important race'})\n",
      "CREATE (atlantic:NODE {name: 'atlantic'})\n",
      "CREATE (he:NODE {name: 'he'})\n",
      "CREATE (small:NODE {name: 'small'})\n",
      "CREATE (away:NODE {name: 'away'})\n",
      "CREATE (harbour:NODE {name: 'harbour'})\n",
      "CREATE (boat_topsail:NODE {name: 'boat topsail'})\n",
      "CREATE (neighbour:NODE {name: 'neighbour'})\n",
      "CREATE (famous:NODE {name: 'famous'})\n",
      "CREATE (topsail:NODE {name: 'topsail'})\n",
      "CREATE (race:NODE {name: 'race'})\n",
      "CREATE (captain_alison:NODE {name: 'captain alison'})\n",
      "CREATE (proud:NODE {name: 'proud'})\n",
      "CREATE (part:NODE {name: 'part'})\n",
      "CREATE (very:NODE {name: 'very'})\n",
      "CREATE (little_boat:NODE {name: 'little boat'})\n",
      "CREATE (many_times:NODE {name: 'many times'})\n",
      "CREATE (goodbye:NODE {name: 'goodbye'})\n",
      "CREATE (important:NODE {name: 'important'})\n",
      "CREATE (captain_charles:NODE {name: 'captain charles'})\n",
      "CREATE (times:NODE {name: 'times'})\n",
      "CREATE (oclock:NODE {name: 'oclock'})\n",
      "CREATE (plenty:NODE {name: 'plenty'})\n",
      "CREATE (portsmouth:NODE {name: 'portsmouth'})\n",
      "CREATE (charles:NODE {name: 'charles'})\n",
      "CREATE (it:NODE {name: 'it'})\n",
      "CREATE (alison:NODE {name: 'alison'})\n",
      "CREATE (time:NODE {name: 'time'})\n",
      "CREATE (captain)-[:_CO_OCC_]->(charles)\n",
      "CREATE (captain)-[:_PARTOF_]->(captain_charles)\n",
      "CREATE (captain)-[:_PARTOF_]->(neighbour_captain_charles)\n",
      "CREATE (captain)-[:_CO_OCC_]->(alison)\n",
      "CREATE (captain)-[:_PARTOF_]->(captain_alison)\n",
      "CREATE (neighbour)-[:_CO_OCC_]->(captain)\n",
      "CREATE (neighbour)-[:_PARTOF_]->(neighbour_captain_charles)\n",
      "CREATE (neighbour)-[:_CO_OCC_]->(captain_charles)\n",
      "CREATE (neighbour_captain_charles)-[:_OWN_our]->(neighbour_captain_charles)\n",
      "CREATE (neighbour_captain_charles)-[:_ACT_sail__TEMP_from__TEMP_tomorrow]->(portsmouth)\n",
      "CREATE (neighbour_captain_charles)-[:_ACT_alison__TEMP_from]->(portsmouth)\n",
      "CREATE (we)-[:_ACT_meet]->(him)\n",
      "CREATE (we)-[:_OWN_have]->(plenty)\n",
      "CREATE (we)-[:_ACT_see]->(boat)\n",
      "CREATE (we)-[:_OWN_his]->(boat)\n",
      "CREATE (we)-[:_ACT_say]->(goodbye)\n",
      "CREATE (we)-[:_ATTR_are]->(very_proud)\n",
      "CREATE (him)-[:_SIT_at]->(harbour)\n",
      "CREATE (harbour)-[:_SIT_in__CO_OCC_early__TEMP_morning]->(harbour)\n",
      "CREATE (small)-[:_CO_OCC_]->(boat)\n",
      "CREATE (small)-[:_PARTOF_]->(small_boat_topsail)\n",
      "CREATE (small)-[:_CO_OCC_]->(boat_topsail)\n",
      "CREATE (boat)-[:_CO_OCC_]->(topsail)\n",
      "CREATE (boat)-[:_PARTOF_]->(small_boat_topsail)\n",
      "CREATE (boat)-[:_PARTOF_]->(boat_topsail)\n",
      "CREATE (boat)-[:_SEQ_and_then]->(we)\n",
      "CREATE (small_boat_topsail)-[:_PARTOF_]->(boat_topsail)\n",
      "CREATE (he)-[:_OWN_his]->(small_boat_topsail)\n",
      "CREATE (he)-[:_SIT_in]->(small_boat_topsail)\n",
      "CREATE (he)-[:_ATTR_be]->(small_boat_topsail)\n",
      "CREATE (he)-[:_ATTR_be]->(away)\n",
      "CREATE (he)-[:_ACT_take]->(part)\n",
      "CREATE (little)-[:_CO_OCC_]->(boat)\n",
      "CREATE (little)-[:_PARTOF_]->(little_boat)\n",
      "CREATE (little)-[:_PARTOF_]->(famous_little_boat)\n",
      "CREATE (famous)-[:_CO_OCC_]->(little)\n",
      "CREATE (famous)-[:_PARTOF_]->(famous_little_boat)\n",
      "CREATE (famous)-[:_CO_OCC_]->(little_boat)\n",
      "CREATE (famous_little_boat)-[:_PARTOF_]->(boat)\n",
      "CREATE (topsail)-[:_ATTR_is]->(famous_little_boat)\n",
      "CREATE (many)-[:_CO_OCC_]->(times)\n",
      "CREATE (many)-[:_PARTOF_]->(many_times)\n",
      "CREATE (many)-[:_PARTOF_]->(atlantic_many_times)\n",
      "CREATE (atlantic)-[:_CO_OCC_]->(many)\n",
      "CREATE (atlantic)-[:_PARTOF_]->(atlantic_many_times)\n",
      "CREATE (atlantic)-[:_CO_OCC_]->(many_times)\n",
      "CREATE (atlantic_many_times)-[:_PARTOF_]->(times)\n",
      "CREATE (it)-[:_OWN_has]->(atlantic_many_times)\n",
      "CREATE (it)-[:_ACT_sailed]->(atlantic_many_times)\n",
      "CREATE (it)-[:_SIT_across]->(atlantic_many_times)\n",
      "CREATE (captain_alison)-[:_SIT_at]->(oclock)\n",
      "CREATE (captain_alison)-[:_ACT_set]->(oclock)\n",
      "CREATE (oclock)-[:_CE_so]->(we)\n",
      "CREATE (plenty)-[:_OWN_of]->(time)\n",
      "CREATE (goodbye)-[:_PUR_to]->(him)\n",
      "CREATE (away)-[:_PUR_for__TEMP_two_months]->(away)\n",
      "CREATE (very)-[:_CO_OCC_]->(proud)\n",
      "CREATE (very)-[:_PARTOF_]->(very_proud)\n",
      "CREATE (very_proud)-[:_PARTOF_]->(proud)\n",
      "CREATE (very_proud)-[:_OWN_of]->(him)\n",
      "CREATE (important)-[:_CO_OCC_]->(race)\n",
      "CREATE (important)-[:_PARTOF_]->(important_race)\n",
      "CREATE (important_race)-[:_PARTOF_]->(race)\n",
      "CREATE (important_race)-[:_SIT_across]->(atlantic)\n",
      "CREATE (part)-[:_SIT_in]->(important_race)\n"
     ]
    }
   ],
   "source": [
    "print(\"\\n\".join(merged_sln.to_neo4j_expression()))"
   ]
  },
  {
   "cell_type": "code",
   "execution_count": 97,
   "metadata": {},
   "outputs": [
    {
     "name": "stdout",
     "output_type": "stream",
     "text": [
      "CREATE (we:NODE {name: 'we'})\n",
      "CREATE (captain:NODE {name: 'captain'})\n",
      "CREATE (boat:NODE {name: 'boat'})\n",
      "CREATE (his:NODE {name: 'his'})\n",
      "CREATE (neighbour:NODE {name: 'neighbour'})\n",
      "CREATE (him:NODE {name: 'him'})\n",
      "CREATE (neighbour_captain_charles:NODE {name: 'neighbour captain charles'})\n",
      "CREATE (he:NODE {name: 'he'})\n",
      "CREATE (part:NODE {name: 'part'})\n",
      "CREATE (topsail:NODE {name: 'topsail'})\n",
      "CREATE (race:NODE {name: 'race'})\n",
      "CREATE (captain_alison:NODE {name: 'captain alison'})\n",
      "CREATE (away:NODE {name: 'away'})\n",
      "CREATE (portsmouth:NODE {name: 'portsmouth'})\n",
      "CREATE (harbour:NODE {name: 'harbour'})\n",
      "CREATE (charles:NODE {name: 'charles'})\n",
      "CREATE (boat_topsail:NODE {name: 'boat topsail'})\n",
      "CREATE (goodbye:NODE {name: 'goodbye'})\n",
      "CREATE (captain_charles:NODE {name: 'captain charles'})\n",
      "CREATE (oclock:NODE {name: 'oclock'})\n",
      "CREATE (morning:NODE {name: 'morning'})\n",
      "CREATE (portsmouth_tomorrow:NODE {name: 'portsmouth tomorrow'})\n",
      "CREATE (atlantic:NODE {name: 'atlantic'})\n",
      "CREATE (plenty:NODE {name: 'plenty'})\n",
      "CREATE (months:NODE {name: 'months'})\n",
      "CREATE (our:NODE {name: 'our'})\n",
      "CREATE (it:NODE {name: 'it'})\n",
      "CREATE (alison:NODE {name: 'alison'})\n",
      "CREATE (tomorrow:NODE {name: 'tomorrow'})\n",
      "CREATE (times:NODE {name: 'times'})\n",
      "CREATE (time:NODE {name: 'time'})\n",
      "CREATE (captain)-[:_CO_OCC_]->(charles)\n",
      "CREATE (captain)-[:_PARTOF_]->(captain_charles)\n",
      "CREATE (captain)-[:_PARTOF_]->(neighbour_captain_charles)\n",
      "CREATE (captain)-[:_CO_OCC_]->(alison)\n",
      "CREATE (captain)-[:_PARTOF_]->(captain_alison)\n",
      "CREATE (neighbour)-[:_CO_OCC_]->(captain)\n",
      "CREATE (neighbour)-[:_PARTOF_]->(neighbour_captain_charles)\n",
      "CREATE (neighbour)-[:_CO_OCC_]->(captain_charles)\n",
      "CREATE (neighbour)-[:_CO_OCC_]->(charles)\n",
      "CREATE (portsmouth)-[:_CO_OCC_]->(tomorrow)\n",
      "CREATE (portsmouth)-[:_PARTOF_]->(portsmouth_tomorrow)\n",
      "CREATE (our)-[:_CO_OCC_]->(neighbour_captain_charles)\n",
      "CREATE (neighbour_captain_charles)-[:_ACT_sail]->(portsmouth_tomorrow)\n",
      "CREATE (neighbour_captain_charles)-[:_ACT_alison]->(portsmouth_tomorrow)\n",
      "CREATE (we)-[:_ACT_meet]->(him)\n",
      "CREATE (we)-[:_ATTR_are]->(him)\n",
      "CREATE (we)-[:_ACT_have]->(plenty)\n",
      "CREATE (we)-[:_ACT_see]->(his)\n",
      "CREATE (we)-[:_ACT_say]->(goodbye)\n",
      "CREATE (him)-[:_CO_OCC_]->(harbour)\n",
      "CREATE (him)-[:_CO_OCC_]->(morning)\n",
      "CREATE (harbour)-[:_CO_OCC_]->(morning)\n",
      "CREATE (boat)-[:_CO_OCC_]->(topsail)\n",
      "CREATE (boat)-[:_PARTOF_]->(boat_topsail)\n",
      "CREATE (boat)-[:_CO_OCC_]->(we)\n",
      "CREATE (he)-[:_ATTR_be]->(his)\n",
      "CREATE (he)-[:_ATTR_be]->(away)\n",
      "CREATE (he)-[:_ACT_take]->(part)\n",
      "CREATE (his)-[:_CO_OCC_]->(boat_topsail)\n",
      "CREATE (his)-[:_CO_OCC_]->(boat)\n",
      "CREATE (his)-[:_CO_OCC_]->(we)\n",
      "CREATE (topsail)-[:_ATTR_is]->(boat)\n",
      "CREATE (it)-[:_ACT_sailed]->(times)\n",
      "CREATE (it)-[:_ACT_has]->(times)\n",
      "CREATE (captain_alison)-[:_ACT_set]->(oclock)\n",
      "CREATE (oclock)-[:_CO_OCC_]->(we)\n",
      "CREATE (plenty)-[:_CO_OCC_]->(time)\n",
      "CREATE (goodbye)-[:_CO_OCC_]->(him)\n",
      "CREATE (away)-[:_CO_OCC_]->(months)\n",
      "CREATE (part)-[:_CO_OCC_]->(race)\n",
      "CREATE (part)-[:_CO_OCC_]->(atlantic)\n",
      "CREATE (race)-[:_CO_OCC_]->(atlantic)\n"
     ]
    }
   ],
   "source": [
    "print(\"\\n\".join(merged_sln.to_neo4j_expression()))"
   ]
  },
  {
   "cell_type": "code",
   "execution_count": null,
   "metadata": {},
   "outputs": [],
   "source": []
  },
  {
   "cell_type": "code",
   "execution_count": null,
   "metadata": {},
   "outputs": [],
   "source": []
  },
  {
   "cell_type": "code",
   "execution_count": null,
   "metadata": {},
   "outputs": [],
   "source": []
  },
  {
   "cell_type": "code",
   "execution_count": null,
   "metadata": {},
   "outputs": [],
   "source": []
  },
  {
   "cell_type": "code",
   "execution_count": null,
   "metadata": {},
   "outputs": [],
   "source": []
  },
  {
   "cell_type": "code",
   "execution_count": 72,
   "metadata": {},
   "outputs": [
    {
     "data": {
      "text/plain": [
       "<spacy.lang.en.English at 0x7fa3493d90a0>"
      ]
     },
     "execution_count": 72,
     "metadata": {},
     "output_type": "execute_result"
    }
   ],
   "source": [
    "import neuralcoref\n",
    "import spacy\n",
    "\n",
    "nlp = spacy.load(\"en_core_web_sm\")\n",
    "neuralcoref.add_to_pipe(nlp)"
   ]
  },
  {
   "cell_type": "code",
   "execution_count": 73,
   "metadata": {},
   "outputs": [
    {
     "data": {
      "text/plain": [
       "'Our neighbour, Captain Charles Alison, will sail from Portsmouth tomorrow. We will meet him at the harbour early in the morning. He will be in his small boat, Topsail. Topsail is a famous little boat. It has sailed across the Atlantic many times. Captain Alison will set out at eight oclock, so we will have plenty of time. We will see his boat and then we will say goodbye to him. He will be away for two months. We are very proud of him. He will take part in an important race across the Atlantic.'"
      ]
     },
     "execution_count": 73,
     "metadata": {},
     "output_type": "execute_result"
    }
   ],
   "source": [
    "text"
   ]
  },
  {
   "cell_type": "code",
   "execution_count": 74,
   "metadata": {
    "scrolled": true
   },
   "outputs": [
    {
     "data": {
      "text/plain": [
       "[Our: [Our, We, we, We, we, We],\n",
       " Captain Alison: [Our neighbour, Captain Charles Alison, him, He, his, Captain Alison, his, him, He, him, He],\n",
       " his small boat: [his small boat, his boat],\n",
       " Topsail: [Topsail, Topsail],\n",
       " a famous little boat: [a famous little boat, It],\n",
       " the Atlantic: [the Atlantic, the Atlantic]]"
      ]
     },
     "execution_count": 74,
     "metadata": {},
     "output_type": "execute_result"
    }
   ],
   "source": [
    "doc = nlp(text)\n",
    "\n",
    "doc._.has_coref\n",
    "doc._.coref_clusters"
   ]
  },
  {
   "cell_type": "code",
   "execution_count": 75,
   "metadata": {},
   "outputs": [
    {
     "data": {
      "text/plain": [
       "'Captain Alison, will sail from Portsmouth tomorrow. Our will meet Captain Alison at the harbour early in the morning. Captain Alison will be in Captain Alison small boat, Topsail. Topsail is a famous little boat. a famous little boat has sailed across the Atlantic many times. Captain Alison will set out at eight oclock, so Our will have plenty of time. Our will see his small boat and then Our will say goodbye to Captain Alison. Captain Alison will be away for two months. Our are very proud of Captain Alison. Captain Alison will take part in an important race across the Atlantic.'"
      ]
     },
     "execution_count": 75,
     "metadata": {},
     "output_type": "execute_result"
    }
   ],
   "source": [
    "doc._.coref_resolved"
   ]
  },
  {
   "cell_type": "code",
   "execution_count": 81,
   "metadata": {
    "scrolled": true
   },
   "outputs": [
    {
     "data": {
      "text/plain": [
       "'Captain Alison, will sail from Portsmouth tomorrow. Our will meet Captain Alison at the harbour early in the morning. Captain Alison will be in Captain Alison small boat, Topsail. Topsail is a famous little boat. a famous little boat has sailed across the Atlantic many times. Captain Alison will set out at eight oclock, so Our will have plenty of time. Our will see Captain Alison own small boat and then Our will say goodbye to Captain Alison. Captain Alison will be away for two months. Our are very proud of Captain Alison. Captain Alison will take part in an important race across the Atlantic.'"
      ]
     },
     "execution_count": 81,
     "metadata": {},
     "output_type": "execute_result"
    }
   ],
   "source": [
    "# 把his换成Captain Alison own\n",
    "doc._.coref_resolved.replace(\"his\", \"Captain Alison own\")"
   ]
  },
  {
   "cell_type": "code",
   "execution_count": null,
   "metadata": {},
   "outputs": [],
   "source": []
  },
  {
   "cell_type": "code",
   "execution_count": null,
   "metadata": {},
   "outputs": [],
   "source": []
  },
  {
   "cell_type": "code",
   "execution_count": 83,
   "metadata": {},
   "outputs": [
    {
     "name": "stdout",
     "output_type": "stream",
     "text": [
      "[('captain', _CO_OCC: , 'alison'), ('captain', _PARTOF: , 'captain alison')]\n",
      "[('captain', _CO_OCC: , 'alison'), ('captain', _PARTOF: , 'captain alison')]\n",
      "[('captain', _CO_OCC: , 'alison'), ('captain', _PARTOF: , 'captain alison')]\n",
      "[('small', _CO_OCC: , 'boat'), ('small', _PARTOF: , 'small boat topsail'), ('small', _CO_OCC: , 'boat topsail'), ('boat', _CO_OCC: , 'topsail'), ('boat', _PARTOF: , 'small boat topsail')]\n",
      "[('boat', _CO_OCC: , 'topsail'), ('boat', _PARTOF: , 'boat topsail')]\n",
      "[('famous', _CO_OCC: , 'little'), ('famous', _PARTOF: , 'famous little boat'), ('famous', _CO_OCC: , 'little boat'), ('little', _CO_OCC: , 'boat'), ('little', _PARTOF: , 'famous little boat')]\n",
      "[('little', _CO_OCC: , 'boat'), ('little', _PARTOF: , 'little boat')]\n",
      "[('famous', _CO_OCC: , 'little'), ('famous', _PARTOF: , 'famous little boat'), ('famous', _CO_OCC: , 'little boat'), ('little', _CO_OCC: , 'boat'), ('little', _PARTOF: , 'famous little boat')]\n",
      "[('little', _CO_OCC: , 'boat'), ('little', _PARTOF: , 'little boat')]\n",
      "[('atlantic', _CO_OCC: , 'many'), ('atlantic', _PARTOF: , 'atlantic many times'), ('atlantic', _CO_OCC: , 'many times'), ('many', _CO_OCC: , 'times'), ('many', _PARTOF: , 'atlantic many times')]\n",
      "[('many', _CO_OCC: , 'times'), ('many', _PARTOF: , 'many times')]\n",
      "[('captain', _CO_OCC: , 'alison'), ('captain', _PARTOF: , 'captain alison')]\n",
      "[('small', _CO_OCC: , 'boat'), ('small', _PARTOF: , 'small boat')]\n",
      "[('captain', _CO_OCC: , 'alison'), ('captain', _PARTOF: , 'captain alison')]\n",
      "[('very', _CO_OCC: , 'proud'), ('very', _PARTOF: , 'very proud')]\n",
      "[('captain', _CO_OCC: , 'alison'), ('captain', _PARTOF: , 'captain alison')]\n",
      "[('captain', _CO_OCC: , 'alison'), ('captain', _PARTOF: , 'captain alison')]\n",
      "[('important', _CO_OCC: , 'race'), ('important', _PARTOF: , 'important race')]\n"
     ]
    }
   ],
   "source": [
    "slns = [make_sln_noun_verb_pronoun_prep_adj_adv(words, decompose=True) for words in tokenize_sentences_and_words(doc._.coref_resolved.replace(\"his\", \"Captain Alison own\"), remove_stop=False, lower=True)]"
   ]
  },
  {
   "cell_type": "code",
   "execution_count": 84,
   "metadata": {},
   "outputs": [],
   "source": [
    "merged_sln = sum(slns, start=SLN([]))"
   ]
  },
  {
   "cell_type": "code",
   "execution_count": 85,
   "metadata": {},
   "outputs": [
    {
     "data": {
      "text/plain": [
       "captain -{_CO_OCC: }> alison\n",
       "captain -{_PARTOF: }> captain alison\n",
       "captain alison -{_ACT: sail(_TEMP: from)(_TEMP: tomorrow)}> portsmouth\n",
       "captain alison -{_PARTOF: }> alison\n",
       "captain alison -{_ACT: meet, _OWN: our, _SIT: in, _ATTR: be}> captain alison\n",
       "captain alison -{_SIT: at}> harbour\n",
       "captain alison -{_CO_OCC: }> small boat topsail\n",
       "captain alison -{_SIT: at, _ACT: set}> oclock\n",
       "captain alison -{_ATTR: be}> away\n",
       "captain alison -{_ACT: take}> part\n",
       "harbour -{_SIT: in(_CO_OCC: early)(_TEMP: morning)}> harbour\n",
       "small -{_CO_OCC: }> boat\n",
       "small -{_PARTOF: }> small boat topsail\n",
       "small -{_CO_OCC: }> boat topsail\n",
       "small -{_PARTOF: }> small boat\n",
       "boat -{_CO_OCC: }> topsail\n",
       "boat -{_PARTOF: }> small boat topsail\n",
       "boat -{_PARTOF: }> boat topsail\n",
       "small boat topsail -{_PARTOF: }> boat topsail\n",
       "little -{_CO_OCC: }> boat\n",
       "little -{_PARTOF: }> little boat\n",
       "little -{_PARTOF: }> famous little boat\n",
       "famous -{_CO_OCC: }> little\n",
       "famous -{_PARTOF: }> famous little boat\n",
       "famous -{_CO_OCC: }> little boat\n",
       "famous little boat -{_PARTOF: }> boat\n",
       "famous little boat -{_OWN: has, _ACT: sailed, _SIT: across}> atlantic many times\n",
       "topsail -{_ATTR: is}> famous little boat\n",
       "many -{_CO_OCC: }> times\n",
       "many -{_PARTOF: }> many times\n",
       "many -{_PARTOF: }> atlantic many times\n",
       "atlantic -{_CO_OCC: }> many\n",
       "atlantic -{_PARTOF: }> atlantic many times\n",
       "atlantic -{_CO_OCC: }> many times\n",
       "atlantic many times -{_PARTOF: }> times\n",
       "oclock -{_OWN: have, _OWN: our, _CE: so}> plenty\n",
       "plenty -{_OWN: of}> time\n",
       "small boat -{_PARTOF: }> boat\n",
       "small boat -{_ACT: see, _OWN: our, _OWN: own}> small boat\n",
       "small boat -{_ACT: say, _OWN: our, _SEQ: and then}> goodbye\n",
       "goodbye -{_ACT: captain, _PUR: to}> alison\n",
       "away -{_PUR: for(_TEMP: two months)}> away\n",
       "very -{_CO_OCC: }> proud\n",
       "very -{_PARTOF: }> very proud\n",
       "very proud -{_PARTOF: }> proud\n",
       "very proud -{_OWN: our, _ATTR: are}> very proud\n",
       "very proud -{_OWN: of}> captain alison\n",
       "important -{_CO_OCC: }> race\n",
       "important -{_PARTOF: }> important race\n",
       "important race -{_PARTOF: }> race\n",
       "important race -{_SIT: across}> atlantic\n",
       "part -{_SIT: in}> important race"
      ]
     },
     "execution_count": 85,
     "metadata": {},
     "output_type": "execute_result"
    }
   ],
   "source": [
    "merged_sln"
   ]
  },
  {
   "cell_type": "code",
   "execution_count": 86,
   "metadata": {
    "scrolled": false
   },
   "outputs": [
    {
     "name": "stdout",
     "output_type": "stream",
     "text": [
      "CREATE (captain_alison:NODE {name: 'captain alison'})\n",
      "CREATE (boat:NODE {name: 'boat'})\n",
      "CREATE (famous_little_boat:NODE {name: 'famous little boat'})\n",
      "CREATE (very_proud:NODE {name: 'very proud'})\n",
      "CREATE (small_boat:NODE {name: 'small boat'})\n",
      "CREATE (small:NODE {name: 'small'})\n",
      "CREATE (little:NODE {name: 'little'})\n",
      "CREATE (many:NODE {name: 'many'})\n",
      "CREATE (small_boat_topsail:NODE {name: 'small boat topsail'})\n",
      "CREATE (atlantic_many_times:NODE {name: 'atlantic many times'})\n",
      "CREATE (important_race:NODE {name: 'important race'})\n",
      "CREATE (atlantic:NODE {name: 'atlantic'})\n",
      "CREATE (away:NODE {name: 'away'})\n",
      "CREATE (harbour:NODE {name: 'harbour'})\n",
      "CREATE (boat_topsail:NODE {name: 'boat topsail'})\n",
      "CREATE (alison:NODE {name: 'alison'})\n",
      "CREATE (famous:NODE {name: 'famous'})\n",
      "CREATE (topsail:NODE {name: 'topsail'})\n",
      "CREATE (race:NODE {name: 'race'})\n",
      "CREATE (proud:NODE {name: 'proud'})\n",
      "CREATE (part:NODE {name: 'part'})\n",
      "CREATE (very:NODE {name: 'very'})\n",
      "CREATE (little_boat:NODE {name: 'little boat'})\n",
      "CREATE (many_times:NODE {name: 'many times'})\n",
      "CREATE (captain:NODE {name: 'captain'})\n",
      "CREATE (goodbye:NODE {name: 'goodbye'})\n",
      "CREATE (important:NODE {name: 'important'})\n",
      "CREATE (times:NODE {name: 'times'})\n",
      "CREATE (oclock:NODE {name: 'oclock'})\n",
      "CREATE (plenty:NODE {name: 'plenty'})\n",
      "CREATE (portsmouth:NODE {name: 'portsmouth'})\n",
      "CREATE (time:NODE {name: 'time'})\n",
      "CREATE (captain)-[:_CO_OCC_]->(alison)\n",
      "CREATE (captain)-[:_PARTOF_]->(captain_alison)\n",
      "CREATE (captain_alison)-[:_ACT_sail__TEMP_from__TEMP_tomorrow]->(portsmouth)\n",
      "CREATE (captain_alison)-[:_PARTOF_]->(alison)\n",
      "CREATE (captain_alison)-[:_ACT_meet]->(captain_alison)\n",
      "CREATE (captain_alison)-[:_OWN_our]->(captain_alison)\n",
      "CREATE (captain_alison)-[:_SIT_in]->(captain_alison)\n",
      "CREATE (captain_alison)-[:_ATTR_be]->(captain_alison)\n",
      "CREATE (captain_alison)-[:_SIT_at]->(harbour)\n",
      "CREATE (captain_alison)-[:_CO_OCC_]->(small_boat_topsail)\n",
      "CREATE (captain_alison)-[:_SIT_at]->(oclock)\n",
      "CREATE (captain_alison)-[:_ACT_set]->(oclock)\n",
      "CREATE (captain_alison)-[:_ATTR_be]->(away)\n",
      "CREATE (captain_alison)-[:_ACT_take]->(part)\n",
      "CREATE (harbour)-[:_SIT_in__CO_OCC_early__TEMP_morning]->(harbour)\n",
      "CREATE (small)-[:_CO_OCC_]->(boat)\n",
      "CREATE (small)-[:_PARTOF_]->(small_boat_topsail)\n",
      "CREATE (small)-[:_CO_OCC_]->(boat_topsail)\n",
      "CREATE (small)-[:_PARTOF_]->(small_boat)\n",
      "CREATE (boat)-[:_CO_OCC_]->(topsail)\n",
      "CREATE (boat)-[:_PARTOF_]->(small_boat_topsail)\n",
      "CREATE (boat)-[:_PARTOF_]->(boat_topsail)\n",
      "CREATE (small_boat_topsail)-[:_PARTOF_]->(boat_topsail)\n",
      "CREATE (little)-[:_CO_OCC_]->(boat)\n",
      "CREATE (little)-[:_PARTOF_]->(little_boat)\n",
      "CREATE (little)-[:_PARTOF_]->(famous_little_boat)\n",
      "CREATE (famous)-[:_CO_OCC_]->(little)\n",
      "CREATE (famous)-[:_PARTOF_]->(famous_little_boat)\n",
      "CREATE (famous)-[:_CO_OCC_]->(little_boat)\n",
      "CREATE (famous_little_boat)-[:_PARTOF_]->(boat)\n",
      "CREATE (famous_little_boat)-[:_OWN_has]->(atlantic_many_times)\n",
      "CREATE (famous_little_boat)-[:_ACT_sailed]->(atlantic_many_times)\n",
      "CREATE (famous_little_boat)-[:_SIT_across]->(atlantic_many_times)\n",
      "CREATE (topsail)-[:_ATTR_is]->(famous_little_boat)\n",
      "CREATE (many)-[:_CO_OCC_]->(times)\n",
      "CREATE (many)-[:_PARTOF_]->(many_times)\n",
      "CREATE (many)-[:_PARTOF_]->(atlantic_many_times)\n",
      "CREATE (atlantic)-[:_CO_OCC_]->(many)\n",
      "CREATE (atlantic)-[:_PARTOF_]->(atlantic_many_times)\n",
      "CREATE (atlantic)-[:_CO_OCC_]->(many_times)\n",
      "CREATE (atlantic_many_times)-[:_PARTOF_]->(times)\n",
      "CREATE (oclock)-[:_OWN_have]->(plenty)\n",
      "CREATE (oclock)-[:_OWN_our]->(plenty)\n",
      "CREATE (oclock)-[:_CE_so]->(plenty)\n",
      "CREATE (plenty)-[:_OWN_of]->(time)\n",
      "CREATE (small_boat)-[:_PARTOF_]->(boat)\n",
      "CREATE (small_boat)-[:_ACT_see]->(small_boat)\n",
      "CREATE (small_boat)-[:_OWN_our]->(small_boat)\n",
      "CREATE (small_boat)-[:_OWN_own]->(small_boat)\n",
      "CREATE (small_boat)-[:_ACT_say]->(goodbye)\n",
      "CREATE (small_boat)-[:_OWN_our]->(goodbye)\n",
      "CREATE (small_boat)-[:_SEQ_and_then]->(goodbye)\n",
      "CREATE (goodbye)-[:_ACT_captain]->(alison)\n",
      "CREATE (goodbye)-[:_PUR_to]->(alison)\n",
      "CREATE (away)-[:_PUR_for__TEMP_two_months]->(away)\n",
      "CREATE (very)-[:_CO_OCC_]->(proud)\n",
      "CREATE (very)-[:_PARTOF_]->(very_proud)\n",
      "CREATE (very_proud)-[:_PARTOF_]->(proud)\n",
      "CREATE (very_proud)-[:_OWN_our]->(very_proud)\n",
      "CREATE (very_proud)-[:_ATTR_are]->(very_proud)\n",
      "CREATE (very_proud)-[:_OWN_of]->(captain_alison)\n",
      "CREATE (important)-[:_CO_OCC_]->(race)\n",
      "CREATE (important)-[:_PARTOF_]->(important_race)\n",
      "CREATE (important_race)-[:_PARTOF_]->(race)\n",
      "CREATE (important_race)-[:_SIT_across]->(atlantic)\n",
      "CREATE (part)-[:_SIT_in]->(important_race)\n"
     ]
    }
   ],
   "source": [
    "print(\"\\n\".join(merged_sln.to_neo4j_expression()))"
   ]
  },
  {
   "cell_type": "code",
   "execution_count": null,
   "metadata": {},
   "outputs": [],
   "source": []
  }
 ],
 "metadata": {
  "kernelspec": {
   "display_name": "Python 3",
   "language": "python",
   "name": "python3"
  },
  "language_info": {
   "codemirror_mode": {
    "name": "ipython",
    "version": 3
   },
   "file_extension": ".py",
   "mimetype": "text/x-python",
   "name": "python",
   "nbconvert_exporter": "python",
   "pygments_lexer": "ipython3",
   "version": "3.8.3"
  }
 },
 "nbformat": 4,
 "nbformat_minor": 4
}
