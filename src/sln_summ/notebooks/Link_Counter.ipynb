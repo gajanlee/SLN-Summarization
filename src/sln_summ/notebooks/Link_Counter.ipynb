{
 "cells": [
  {
   "cell_type": "code",
   "execution_count": 1,
   "metadata": {},
   "outputs": [],
   "source": [
    "import sys\n",
    "sys.path.append(\"/home/ubuntu/SLN-Summarization/src/\")\n",
    "\n",
    "%load_ext autoreload\n",
    "%autoreload 2\n",
    "\n",
    "import itertools\n",
    "from sln_summ.corpus import *\n",
    "from sln_summ.metrics import rouge_score\n",
    "from sln_summ.summarizers import *\n",
    "from sln_summ.tokenizer import tokenize_sentences_and_words\n",
    "from sln_summ.sln_construction import *"
   ]
  },
  {
   "cell_type": "code",
   "execution_count": 2,
   "metadata": {},
   "outputs": [
    {
     "name": "stderr",
     "output_type": "stream",
     "text": [
      "paper-corpus: 100%|██████████| 173/173 [00:00<00:00, 5349.29it/s]\n",
      "cnn-corpus: 100%|██████████| 201/201 [00:00<00:00, 19110.40it/s]\n",
      "legal-corpus: 100%|██████████| 201/201 [00:00<00:00, 360.28it/s]\n"
     ]
    }
   ],
   "source": [
    "paper_items = read_paper_corpus(200)\n",
    "cnn_items = read_cnn_corpus(201)\n",
    "legal_items = read_legal_corpus(201)"
   ]
  },
  {
   "cell_type": "code",
   "execution_count": 4,
   "metadata": {},
   "outputs": [
    {
     "name": "stderr",
     "output_type": "stream",
     "text": [
      "\r",
      "  0%|          | 0/173 [00:00<?, ?it/s]"
     ]
    },
    {
     "name": "stdout",
     "output_type": "stream",
     "text": [
      "paper\n"
     ]
    },
    {
     "name": "stderr",
     "output_type": "stream",
     "text": [
      "100%|██████████| 173/173 [06:00<00:00,  2.09s/it]\n",
      "  1%|          | 2/201 [00:00<00:14, 13.40it/s]"
     ]
    },
    {
     "name": "stdout",
     "output_type": "stream",
     "text": [
      "{'words': 3767.063583815029, 'node': 1068.5838150289017, '_CO_OCC': 982.9768786127167, '_ACT': 410.90751445086704, '_OWN': 140.52601156069363, '_SEQ': 96.27745664739885, '_MEANS': 62.456647398843934, '_ATTR': 105.13872832369943, '_PARTOF': 289.66473988439304, '_SIT': 80.98265895953757, '_PUR': 125.35838150289017, '_NEG': 16.479768786127167, '_TEMP': 37.092485549132945, '_CE': 8.508670520231213, '_COND': 13.375722543352602, '_EC': 4.138728323699422, '_SIM': 2.7745664739884393, '_PASS': 0.023121387283236993}\n",
      "cnn\n"
     ]
    },
    {
     "name": "stderr",
     "output_type": "stream",
     "text": [
      "100%|██████████| 201/201 [00:23<00:00,  8.42it/s]\n",
      "  0%|          | 0/201 [00:00<?, ?it/s]"
     ]
    },
    {
     "name": "stdout",
     "output_type": "stream",
     "text": [
      "{'words': 676.2686567164179, 'node': 264.7761194029851, '_CO_OCC': 180.726368159204, '_PARTOF': 49.37313432835821, '_OWN': 29.049751243781095, '_ACT': 95.38805970149254, '_SIT': 18.09950248756219, '_SEQ': 17.91044776119403, '_SIM': 0.9751243781094527, '_PUR': 23.33830845771144, '_TEMP': 16.139303482587064, '_ATTR': 13.278606965174129, '_NEG': 4.124378109452737, '_COND': 3.109452736318408, '_MEANS': 8.248756218905474, '_EC': 0.8855721393034826, '_CE': 1.1343283582089552, '_PASS': 0.004975124378109453}\n",
      "legal\n"
     ]
    },
    {
     "name": "stderr",
     "output_type": "stream",
     "text": [
      "100%|██████████| 201/201 [33:11<00:00,  9.91s/it]   "
     ]
    },
    {
     "name": "stdout",
     "output_type": "stream",
     "text": [
      "{'words': 6046.293532338308, 'node': 981.139303482587, '_CO_OCC': 983.4477611940298, '_ACT': 642.5124378109452, '_SIT': 157.39303482587064, '_ATTR': 133.32835820895522, '_MEANS': 83.42288557213931, '_TEMP': 78.08457711442786, '_OWN': 273.4676616915423, '_PUR': 230.34825870646767, '_SEQ': 151.06965174129354, '_EC': 6.6716417910447765, '_NEG': 64.28358208955224, '_COND': 20.049751243781095, '_CE': 11.73134328358209, '_PARTOF': 251.29850746268656, '_PASS': 1.1592039800995024, '_SIM': 1.144278606965174}\n"
     ]
    },
    {
     "name": "stderr",
     "output_type": "stream",
     "text": [
      "\n"
     ]
    }
   ],
   "source": [
    "for name, items in [\n",
    "    (\"paper\", paper_items),\n",
    "    (\"cnn\", cnn_items),\n",
    "    (\"legal\", legal_items),\n",
    "]:\n",
    "    print(name)\n",
    "    \n",
    "    \n",
    "    counter = {\n",
    "        \"words\": 0,\n",
    "        \"node\": 0,\n",
    "    }\n",
    "    \n",
    "    for item in tqdm(items):\n",
    "        abstract, text, _, _ = item\n",
    "        merged_sln = sum([\n",
    "            make_sln_noun_verb_pronoun_prep_adj_adv(words, decompose=True) for words in tokenize_sentences_and_words(text, remove_stop=False, lower=True)\n",
    "        ], SLN([]))\n",
    "        \n",
    "        for from_node in merged_sln.outgoing_links:\n",
    "            for to_node, links in merged_sln.outgoing_links[from_node].items():\n",
    "                for link in links:\n",
    "                    counter[link.link_name] = counter.get(link.link_name, 0) + 1\n",
    "                    for app_link in link.appendix_links:\n",
    "                        counter[app_link.link_name] = counter.get(app_link.link_name, 0) + 1\n",
    "        \n",
    "        counter[\"words\"] += len(list(itertools.chain(*tokenize_sentences_and_words(text, remove_stop=False, lower=True))))\n",
    "        counter[\"node\"] += merged_sln.node_count\n",
    "        \n",
    "        \n",
    "    for key in counter:\n",
    "        counter[key] /= len(items)\n",
    "    print(counter)"
   ]
  },
  {
   "cell_type": "code",
   "execution_count": null,
   "metadata": {},
   "outputs": [],
   "source": []
  },
  {
   "cell_type": "code",
   "execution_count": 19,
   "metadata": {},
   "outputs": [
    {
     "name": "stderr",
     "output_type": "stream",
     "text": [
      "\r",
      "  0%|          | 0/173 [00:00<?, ?it/s]"
     ]
    },
    {
     "name": "stdout",
     "output_type": "stream",
     "text": [
      "paper\n"
     ]
    },
    {
     "name": "stderr",
     "output_type": "stream",
     "text": [
      "100%|██████████| 173/173 [06:10<00:00,  2.14s/it]\n",
      "  1%|          | 2/200 [00:00<00:13, 14.82it/s]"
     ]
    },
    {
     "name": "stdout",
     "output_type": "stream",
     "text": [
      "{'words': 651702, '_CO_OCC': 170055, '_ACT': 71087, '_OWN': 24311, '_SEQ': 16656, '_MEANS': 10805, '_ATTR': 18189, '_PARTOF': 50112, '_SIT': 14010, '_PUR': 21687, '_NEG': 2851, '_TEMP': 6417, '_CE': 1472, '_COND': 2314, '_EC': 716, '_SIM': 480, '_PASS': 4}\n",
      "cnn\n"
     ]
    },
    {
     "name": "stderr",
     "output_type": "stream",
     "text": [
      "100%|██████████| 200/200 [00:21<00:00,  9.27it/s]\n",
      "  0%|          | 0/200 [00:00<?, ?it/s]"
     ]
    },
    {
     "name": "stdout",
     "output_type": "stream",
     "text": [
      "{'words': 135380, '_CO_OCC': 36160, '_PARTOF': 9880, '_ACT': 19107, '_OWN': 5809, '_SIT': 3622, '_SEQ': 3592, '_SIM': 196, '_PUR': 4672, '_TEMP': 3223, '_ATTR': 2665, '_NEG': 827, '_COND': 623, '_MEANS': 1651, '_EC': 178, '_CE': 228, '_PASS': 1}\n",
      "legal\n"
     ]
    },
    {
     "name": "stderr",
     "output_type": "stream",
     "text": [
      "100%|██████████| 200/200 [34:27<00:00, 10.34s/it]   "
     ]
    },
    {
     "name": "stdout",
     "output_type": "stream",
     "text": [
      "{'words': 1210625, '_CO_OCC': 196972, '_ACT': 128649, '_SIT': 31521, '_ATTR': 26693, '_MEANS': 16684, '_TEMP': 15637, '_OWN': 54752, '_PUR': 46091, '_SEQ': 30250, '_EC': 1332, '_NEG': 12875, '_COND': 4022, '_CE': 2351, '_PARTOF': 50330, '_PASS': 232, '_SIM': 228}\n"
     ]
    },
    {
     "name": "stderr",
     "output_type": "stream",
     "text": [
      "\n"
     ]
    }
   ],
   "source": [
    "for name, items in [\n",
    "    (\"paper\", paper_items),\n",
    "    (\"cnn\", cnn_items),\n",
    "    (\"legal\", legal_items),\n",
    "]:\n",
    "    print(name)\n",
    "    \n",
    "    \n",
    "    counter = {\n",
    "        \"words\": 0\n",
    "    }\n",
    "    \n",
    "    for item in tqdm(items):\n",
    "        abstract, text, _, _ = item\n",
    "        merged_sln = sum([\n",
    "            make_sln_noun_verb_pronoun_prep_adj_adv(words, decompose=True) for words in tokenize_sentences_and_words(text, remove_stop=False, lower=True)\n",
    "        ], SLN([]))\n",
    "        \n",
    "        for from_node in merged_sln.outgoing_links:\n",
    "            for to_node, links in merged_sln.outgoing_links[from_node].items():\n",
    "                for link in links:\n",
    "                    counter[link.link_name] = counter.get(link.link_name, 0) + 1\n",
    "                    for app_link in link.appendix_links:\n",
    "                        counter[app_link.link_name] = counter.get(app_link.link_name, 0) + 1\n",
    "        \n",
    "        counter[\"words\"] += len(list(itertools.chain(*tokenize_sentences_and_words(text, remove_stop=False, lower=True))))\n",
    "    \n",
    "    print(counter)"
   ]
  },
  {
   "cell_type": "code",
   "execution_count": 22,
   "metadata": {},
   "outputs": [
    {
     "name": "stdout",
     "output_type": "stream",
     "text": [
      "words 6053.125\n",
      "_CO_OCC 984.86\n",
      "_ACT 643.245\n",
      "_SIT 157.605\n",
      "_ATTR 133.465\n",
      "_MEANS 83.42\n",
      "_TEMP 78.185\n",
      "_OWN 273.76\n",
      "_PUR 230.455\n",
      "_SEQ 151.25\n",
      "_EC 6.66\n",
      "_NEG 64.375\n",
      "_COND 20.11\n",
      "_CE 11.755\n",
      "_PARTOF 251.65\n",
      "_PASS 1.16\n",
      "_SIM 1.14\n"
     ]
    }
   ],
   "source": [
    "acl = {'words': 1210625, '_CO_OCC': 196972, '_ACT': 128649, '_SIT': 31521, '_ATTR': 26693, '_MEANS': 16684, '_TEMP': 15637, '_OWN': 54752, '_PUR': 46091, '_SEQ': 30250, '_EC': 1332, '_NEG': 12875, '_COND': 4022, '_CE': 2351, '_PARTOF': 50330, '_PASS': 232, '_SIM': 228}\n",
    "for key, val in acl.items():\n",
    "    print(key, val / 200)"
   ]
  }
 ],
 "metadata": {
  "kernelspec": {
   "display_name": "Python 3",
   "language": "python",
   "name": "python3"
  },
  "language_info": {
   "codemirror_mode": {
    "name": "ipython",
    "version": 3
   },
   "file_extension": ".py",
   "mimetype": "text/x-python",
   "name": "python",
   "nbconvert_exporter": "python",
   "pygments_lexer": "ipython3",
   "version": "3.8.3"
  }
 },
 "nbformat": 4,
 "nbformat_minor": 4
}
