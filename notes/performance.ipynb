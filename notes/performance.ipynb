{
 "cells": [
  {
   "cell_type": "code",
   "execution_count": 79,
   "metadata": {},
   "outputs": [],
   "source": [
    "from corpus import ACL2014, Legal\n",
    "from psumm import Summarizer, preprocess_section\n",
    "from metrics import rouge_score"
   ]
  },
  {
   "cell_type": "code",
   "execution_count": 122,
   "metadata": {},
   "outputs": [
    {
     "name": "stdout",
     "output_type": "stream",
     "text": [
      "The autoreload extension is already loaded. To reload it, use:\n",
      "  %reload_ext autoreload\n"
     ]
    }
   ],
   "source": [
    "%load_ext autoreload\n",
    "%autoreload 2"
   ]
  },
  {
   "cell_type": "code",
   "execution_count": 123,
   "metadata": {},
   "outputs": [],
   "source": [
    "summarizer = Summarizer()"
   ]
  },
  {
   "cell_type": "code",
   "execution_count": 124,
   "metadata": {},
   "outputs": [],
   "source": [
    "items = list(ACL2014(\"/home/lee/workspace/RST_summary/data/acl2014_2\").items_generator())"
   ]
  },
  {
   "cell_type": "code",
   "execution_count": 102,
   "metadata": {},
   "outputs": [
    {
     "ename": "NameError",
     "evalue": "name 'CNN' is not defined",
     "output_type": "error",
     "traceback": [
      "\u001b[0;31m---------------------------------------------------------------------------\u001b[0m",
      "\u001b[0;31mNameError\u001b[0m                                 Traceback (most recent call last)",
      "\u001b[0;32m<ipython-input-102-d6e0a3da26b2>\u001b[0m in \u001b[0;36m<module>\u001b[0;34m()\u001b[0m\n\u001b[1;32m      1\u001b[0m \u001b[0mitem\u001b[0m \u001b[0;34m=\u001b[0m \u001b[0mlist\u001b[0m\u001b[0;34m(\u001b[0m\u001b[0mACL2014\u001b[0m\u001b[0;34m(\u001b[0m\u001b[0;34m\"/home/lee/workspace/RST_summary/data/acl2014_2\"\u001b[0m\u001b[0;34m)\u001b[0m\u001b[0;34m.\u001b[0m\u001b[0mitems_generator\u001b[0m\u001b[0;34m(\u001b[0m\u001b[0;34m)\u001b[0m\u001b[0;34m)\u001b[0m\u001b[0;34m[\u001b[0m\u001b[0;36m20\u001b[0m\u001b[0;34m]\u001b[0m\u001b[0;34m\u001b[0m\u001b[0m\n\u001b[1;32m      2\u001b[0m \u001b[0;31m#item = list(Legal(\"../data/corpus\").items_generator())[0]\u001b[0m\u001b[0;34m\u001b[0m\u001b[0;34m\u001b[0m\u001b[0m\n\u001b[0;32m----> 3\u001b[0;31m \u001b[0mitems\u001b[0m \u001b[0;34m=\u001b[0m \u001b[0mlist\u001b[0m\u001b[0;34m(\u001b[0m\u001b[0mCNN\u001b[0m\u001b[0;34m(\u001b[0m\u001b[0;34m\"../data/cnn\"\u001b[0m\u001b[0;34m)\u001b[0m\u001b[0;34m.\u001b[0m\u001b[0mitems_generator\u001b[0m\u001b[0;34m(\u001b[0m\u001b[0;34m)\u001b[0m\u001b[0;34m)\u001b[0m\u001b[0;34m[\u001b[0m\u001b[0;34m:\u001b[0m\u001b[0;36m2000\u001b[0m\u001b[0;34m]\u001b[0m\u001b[0;34m\u001b[0m\u001b[0m\n\u001b[0m\u001b[1;32m      4\u001b[0m \u001b[0;34m\u001b[0m\u001b[0m\n\u001b[1;32m      5\u001b[0m \u001b[0mabstract\u001b[0m \u001b[0;34m=\u001b[0m \u001b[0;34m\" \"\u001b[0m\u001b[0;34m.\u001b[0m\u001b[0mjoin\u001b[0m\u001b[0;34m(\u001b[0m\u001b[0mpreprocess_section\u001b[0m\u001b[0;34m(\u001b[0m\u001b[0mitem\u001b[0m\u001b[0;34m.\u001b[0m\u001b[0mabstract\u001b[0m\u001b[0;34m)\u001b[0m\u001b[0;34m)\u001b[0m\u001b[0;34m\u001b[0m\u001b[0m\n",
      "\u001b[0;31mNameError\u001b[0m: name 'CNN' is not defined"
     ]
    }
   ],
   "source": [
    "item = list(ACL2014(\"/home/lee/workspace/RST_summary/data/acl2014_2\").items_generator())[20]\n",
    "#item = list(Legal(\"../data/corpus\").items_generator())[0]\n",
    "items = list(CNN(\"../data/cnn\").items_generator())[:2000]\n",
    "\n",
    "abstract = \" \".join(preprocess_section(item.abstract))"
   ]
  },
  {
   "cell_type": "code",
   "execution_count": 100,
   "metadata": {},
   "outputs": [
    {
     "name": "stdout",
     "output_type": "stream",
     "text": [
      "467.3109023829333\n"
     ]
    },
    {
     "name": "stderr",
     "output_type": "stream",
     "text": [
      "/home/lee/workspace/summarization/code/psumm.py:131: RuntimeWarning: invalid value encountered in double_scalars\n",
      "  dis = math.sqrt(sum(x**2 for x in vec.values()))\n"
     ]
    },
    {
     "data": {
      "text/plain": [
       "{'rouge-1': {'f': 0.4457142809626123,\n",
       "  'p': 0.3644859813084112,\n",
       "  'r': 0.5735294117647058},\n",
       " 'rouge-2': {'f': 0.14937758887140387,\n",
       "  'p': 0.11320754716981132,\n",
       "  'r': 0.21951219512195122},\n",
       " 'rouge-l': {'f': 0.2714548790977105,\n",
       "  'p': 0.24299065420560748,\n",
       "  'r': 0.38235294117647056}}"
      ]
     },
     "execution_count": 100,
     "metadata": {},
     "output_type": "execute_result"
    }
   ],
   "source": [
    "rouge_score(abstract, \" \".join(summarizer.summ_item(item, method=\"mmr\")))"
   ]
  },
  {
   "cell_type": "code",
   "execution_count": 101,
   "metadata": {},
   "outputs": [
    {
     "data": {
      "text/plain": [
       "{'rouge-1': {'f': 0.42307691815910586, 'p': 0.375, 'r': 0.4852941176470588},\n",
       " 'rouge-2': {'f': 0.13592232530492995,\n",
       "  'p': 0.11290322580645161,\n",
       "  'r': 0.17073170731707318},\n",
       " 'rouge-l': {'f': 0.23595848595780994,\n",
       "  'p': 0.2159090909090909,\n",
       "  'r': 0.27941176470588236}}"
      ]
     },
     "execution_count": 101,
     "metadata": {},
     "output_type": "execute_result"
    }
   ],
   "source": [
    "rouge_score(abstract, \" \".join(summarizer.summ_item(item, method=\"centroid\")))"
   ]
  },
  {
   "cell_type": "code",
   "execution_count": 126,
   "metadata": {
    "scrolled": false
   },
   "outputs": [
    {
     "name": "stdout",
     "output_type": "stream",
     "text": [
      "kl\n",
      "{'rouge-1': EvalS(precision=0.21609362019849962, recall=0.40263988722925653, fscore=0.2754620262393017), 'rouge-2': EvalS(precision=0.051336293239251804, recall=0.08885355555438525, fscore=0.0631523010672446), 'rouge-l': EvalS(precision=0.13057060051025246, recall=0.24299787997141756, fscore=0.14315247919580357)}\n",
      "lsa\n",
      "{'rouge-1': EvalS(precision=0.21609362019849962, recall=0.40263988722925653, fscore=0.2754620262393017), 'rouge-2': EvalS(precision=0.051336293239251804, recall=0.08885355555438525, fscore=0.0631523010672446), 'rouge-l': EvalS(precision=0.13057060051025246, recall=0.24299787997141756, fscore=0.14315247919580357)}\n",
      "luhn\n",
      "{'rouge-1': EvalS(precision=0.19880710887423422, recall=0.479938980500079, fscore=0.27653582824209944), 'rouge-2': EvalS(precision=0.045089132947955565, recall=0.13320918492885056, fscore=0.0660530772731567), 'rouge-l': EvalS(precision=0.11854906381294589, recall=0.28827574416401597, fscore=0.12946500679359216)}\n",
      "reduction\n",
      "{'rouge-1': EvalS(precision=0.21694776793182993, recall=0.4334951806262987, fscore=0.28162994892404997), 'rouge-2': EvalS(precision=0.0516884756682898, recall=0.13075986098754536, fscore=0.07209757445864257), 'rouge-l': EvalS(precision=0.1343052616561485, recall=0.27010103563425336, fscore=0.14592060692161296)}\n",
      "centroid - tf\n",
      "{'rouge-1': EvalS(precision=0.213062073413636, recall=0.4504772631774304, fscore=0.2822489690630793), 'rouge-2': EvalS(precision=0.05170167809138749, recall=0.13562748746164222, fscore=0.07302268142200502), 'rouge-l': EvalS(precision=0.12389611744586838, recall=0.26325576548271395, fscore=0.1351593428618177)}\n",
      "centroid - idf\n",
      "{'rouge-1': EvalS(precision=0.16849239163451604, recall=0.46081189010435797, fscore=0.24333046632142313), 'rouge-2': EvalS(precision=0.03463999710579283, recall=0.10928614543856102, fscore=0.05165102991890801), 'rouge-l': EvalS(precision=0.09207851230124099, recall=0.2553401842823552, fscore=0.09967606238989533)}\n",
      "centroid - gi\n",
      "{'rouge-1': EvalS(precision=0.23233776934574052, recall=0.4977430840232389, fscore=0.30934508972190505), 'rouge-2': EvalS(precision=0.0625053028277516, recall=0.15832805881486695, fscore=0.08706030344435829), 'rouge-l': EvalS(precision=0.1348183240315237, recall=0.289010974410892, fscore=0.14711433447948657)}\n",
      "centroid - chi2\n",
      "{'rouge-1': EvalS(precision=0.24622892474791272, recall=0.48370336382521184, fscore=0.318032303681544), 'rouge-2': EvalS(precision=0.0689346245297968, recall=0.1556792878515254, fscore=0.09247427120132014), 'rouge-l': EvalS(precision=0.14684036721918264, recall=0.290327184063283, fscore=0.1602680800828671)}\n",
      "centroid - llr\n",
      "{'rouge-1': EvalS(precision=0.22402861281537084, recall=0.47747989099305793, fscore=0.29755110703738336), 'rouge-2': EvalS(precision=0.05653509366527444, recall=0.14199119370256652, fscore=0.07834942690157648), 'rouge-l': EvalS(precision=0.13261298956083034, recall=0.28320810957987835, fscore=0.144315999362915)}\n",
      "centroid_prob - tf\n",
      "{'rouge-1': EvalS(precision=0.20377792283077448, recall=0.4872238350359803, fscore=0.2822757113691097), 'rouge-2': EvalS(precision=0.04591157330319323, recall=0.13029544057327014, fscore=0.06642030205615869), 'rouge-l': EvalS(precision=0.11317064307557774, recall=0.27271815349265527, fscore=0.12352212890210136)}\n",
      "centroid_prob - idf\n",
      "{'rouge-1': EvalS(precision=0.1633290571593261, recall=0.4557433717844457, fscore=0.23719662985868012), 'rouge-2': EvalS(precision=0.03241623662944692, recall=0.10097073142463012, fscore=0.04811047105255926), 'rouge-l': EvalS(precision=0.08830331520439356, recall=0.2498911016445697, fscore=0.09543939581681012)}\n",
      "centroid_prob - gi\n",
      "{'rouge-1': EvalS(precision=0.218613796594734, recall=0.5111860272779651, fscore=0.3006070733333152), 'rouge-2': EvalS(precision=0.054645717023311446, recall=0.1461761053226597, fscore=0.07768038393438707), 'rouge-l': EvalS(precision=0.12350038825770747, recall=0.2902413931304471, fscore=0.13494517476266976)}\n",
      "centroid_prob - chi2\n",
      "{'rouge-1': EvalS(precision=0.2321417465750148, recall=0.4920851377668445, fscore=0.30891389759383436), 'rouge-2': EvalS(precision=0.0629743057848344, recall=0.148674608702672, fscore=0.08606075721611356), 'rouge-l': EvalS(precision=0.13573025285797516, recall=0.29012561944847803, fscore=0.14863496978840765)}\n",
      "centroid_prob - llr\n",
      "{'rouge-1': EvalS(precision=0.21134061915323635, recall=0.4944229157089062, fscore=0.29041978270884816), 'rouge-2': EvalS(precision=0.04972412892988665, recall=0.13417134108318166, fscore=0.07077990863626243), 'rouge-l': EvalS(precision=0.12078919254730344, recall=0.28308832414844565, fscore=0.13193857082807878)}\n"
     ]
    }
   ],
   "source": [
    "# ACL 2014\n",
    "methods = [\"kl\", \"lsa\", \"luhn\", \"reduction\"]\n",
    "methods_info = [\"centroid\", \"centroid_prob\"]\n",
    "infos = [\"tf\", \"idf\", \"gi\", \"chi2\", \"llr\"]\n",
    "\n",
    "for method in methods:\n",
    "    print(method)\n",
    "    e = summarizer.evaluate(summarizer.summ_items(items, method=method))\n",
    "    print(e)\n",
    "    \n",
    "for method in methods_info:\n",
    "    for info in infos:\n",
    "        print(f\"{method} - {info}\")\n",
    "        es = summarizer.evaluate(summarizer.summ_items(items, info, method))\n",
    "        print(es)"
   ]
  },
  {
   "cell_type": "code",
   "execution_count": 104,
   "metadata": {},
   "outputs": [
    {
     "name": "stdout",
     "output_type": "stream",
     "text": [
      "kl\n",
      "EvalS(precision=0.13057060051025246, recall=0.24299787997141756, fscore=0.14315247919580357)\n",
      "lsa\n",
      "EvalS(precision=0.13057060051025246, recall=0.24299787997141756, fscore=0.14315247919580357)\n",
      "luhn\n",
      "EvalS(precision=0.11854906381294589, recall=0.28827574416401597, fscore=0.12946500679359216)\n",
      "reduction\n",
      "EvalS(precision=0.1343052616561485, recall=0.27010103563425336, fscore=0.14592060692161296)\n",
      "centroid - tf\n",
      "EvalS(precision=0.12389611744586838, recall=0.26325576548271395, fscore=0.1351593428618177)\n",
      "centroid - idf\n",
      "EvalS(precision=0.09207851230124099, recall=0.2553401842823552, fscore=0.09967606238989533)\n",
      "centroid - gi\n",
      "EvalS(precision=0.1348183240315237, recall=0.289010974410892, fscore=0.14711433447948657)\n",
      "centroid - chi2\n",
      "EvalS(precision=0.14684036721918264, recall=0.290327184063283, fscore=0.1602680800828671)\n",
      "centroid - llr\n",
      "EvalS(precision=0.13261298956083034, recall=0.28320810957987835, fscore=0.144315999362915)\n",
      "centroid_prob - tf\n",
      "EvalS(precision=0.11317064307557774, recall=0.27271815349265527, fscore=0.12352212890210136)\n",
      "centroid_prob - idf\n",
      "EvalS(precision=0.08830331520439356, recall=0.2498911016445697, fscore=0.09543939581681012)\n",
      "centroid_prob - gi\n",
      "EvalS(precision=0.12350038825770747, recall=0.2902413931304471, fscore=0.13494517476266976)\n",
      "centroid_prob - chi2\n",
      "EvalS(precision=0.13573025285797516, recall=0.29012561944847803, fscore=0.14863496978840765)\n",
      "centroid_prob - llr\n",
      "EvalS(precision=0.12078919254730344, recall=0.28308832414844565, fscore=0.13193857082807878)\n"
     ]
    }
   ],
   "source": [
    "# CNN\n",
    "methods = [\"kl\", \"lsa\", \"luhn\", \"reduction\"]\n",
    "methods_info = [\"centroid\", \"centroid_prob\"]\n",
    "infos = [\"tf\", \"idf\", \"gi\", \"chi2\", \"llr\"]\n",
    "\n",
    "for method in methods:\n",
    "    print(method)\n",
    "    e = summarizer.evaluate(summarizer.summ_items(items, method=method))\n",
    "    print(e)\n",
    "    \n",
    "for method in methods_info:\n",
    "    for info in infos:\n",
    "        print(f\"{method} - {info}\")\n",
    "        es = summarizer.evaluate(summarizer.summ_items(items, info, method))\n",
    "        print(es)"
   ]
  },
  {
   "cell_type": "code",
   "execution_count": 76,
   "metadata": {
    "scrolled": false
   },
   "outputs": [
    {
     "name": "stdout",
     "output_type": "stream",
     "text": [
      "kl\n",
      "EvalS(precision=0.15126150185203227, recall=0.24476564836781795, fscore=0.16493711657939017)\n",
      "lsa\n",
      "EvalS(precision=0.15126150185203227, recall=0.24476564836781795, fscore=0.16493711657939017)\n",
      "luhn\n",
      "EvalS(precision=0.14197382096456884, recall=0.307120129472299, fscore=0.1560071241082722)\n",
      "reduction\n",
      "EvalS(precision=0.15656177854519707, recall=0.27878783692489023, fscore=0.16943089594811622)\n",
      "centroid - tf\n",
      "EvalS(precision=0.14880378685943665, recall=0.280266036771638, fscore=0.16189403472106428)\n",
      "centroid - idf\n",
      "EvalS(precision=0.10472995510967698, recall=0.26842070552046443, fscore=0.11391151912300734)\n",
      "centroid - gi\n",
      "EvalS(precision=0.1641276635677672, recall=0.3179240667697842, fscore=0.1791006692508147)\n",
      "centroid - chi2\n",
      "EvalS(precision=0.17596737102359022, recall=0.3144542171644412, fscore=0.19137996314405128)\n",
      "centroid - llr\n",
      "EvalS(precision=0.16215787668723308, recall=0.30792809261151566, fscore=0.17633391357509112)\n",
      "centroid_prob - tf\n",
      "EvalS(precision=0.1298581552885995, recall=0.27806000718755963, fscore=0.14158088855724554)\n",
      "centroid_prob - idf\n",
      "EvalS(precision=0.10350490901285266, recall=0.2641678153228068, fscore=0.11268222072323349)\n",
      "centroid_prob - gi\n",
      "EvalS(precision=0.13838330307717628, recall=0.2985137061477106, fscore=0.15125272759672387)\n",
      "centroid_prob - chi2\n",
      "EvalS(precision=0.16140459275669022, recall=0.31235301982714053, fscore=0.17722570257056225)\n",
      "centroid_prob - llr\n",
      "EvalS(precision=0.13951490028953187, recall=0.29351320260246805, fscore=0.15280807083816)\n"
     ]
    }
   ],
   "source": [
    "methods = [\"kl\", \"lsa\", \"luhn\", \"reduction\"]\n",
    "methods_info = [\"centroid\", \"centroid_prob\"]\n",
    "infos = [\"tf\", \"idf\", \"gi\", \"chi2\", \"llr\"]\n",
    "\n",
    "for method in methods:\n",
    "    print(method)\n",
    "    e = summarizer.evaluate(summarizer.summ_items(item, method=method))\n",
    "    print(e)\n",
    "    \n",
    "for method in methods_info:\n",
    "    for info in infos:\n",
    "        print(f\"{method} - {info}\")\n",
    "        es = summarizer.evaluate(summarizer.summ_items(item, info, method))\n",
    "        print(es)"
   ]
  },
  {
   "cell_type": "code",
   "execution_count": 65,
   "metadata": {
    "scrolled": false
   },
   "outputs": [
    {
     "name": "stdout",
     "output_type": "stream",
     "text": [
      "kl\n",
      "[{'rouge-1': {'f': 0.31249999511250004, 'p': 0.2717391304347826, 'r': 0.36764705882352944}, 'rouge-2': {'f': 0.0543478211460307, 'p': 0.049019607843137254, 'r': 0.06097560975609756}, 'rouge-l': {'f': 0.13170374707191262, 'p': 0.11956521739130435, 'r': 0.16176470588235295}}]\n",
      "lsa\n",
      "[{'rouge-1': {'f': 0.31249999511250004, 'p': 0.2717391304347826, 'r': 0.36764705882352944}, 'rouge-2': {'f': 0.0543478211460307, 'p': 0.049019607843137254, 'r': 0.06097560975609756}, 'rouge-l': {'f': 0.13170374707191262, 'p': 0.11956521739130435, 'r': 0.16176470588235295}}]\n",
      "luhn\n",
      "[{'rouge-1': {'f': 0.43434342983369045, 'p': 0.33076923076923076, 'r': 0.6323529411764706}, 'rouge-2': {'f': 0.11307420083107557, 'p': 0.07960199004975124, 'r': 0.1951219512195122}, 'rouge-l': {'f': 0.18854900311792525, 'p': 0.16923076923076924, 'r': 0.3235294117647059}}]\n",
      "reduction\n",
      "[{'rouge-1': {'f': 0.37634408138281883, 'p': 0.2966101694915254, 'r': 0.5147058823529411}, 'rouge-2': {'f': 0.07380073378684955, 'p': 0.05291005291005291, 'r': 0.12195121951219512}, 'rouge-l': {'f': 0.18951050951573956, 'p': 0.1694915254237288, 'r': 0.29411764705882354}}]\n",
      "centroid - tf\n",
      "[{'rouge-1': {'f': 0.37305699025477196, 'p': 0.288, 'r': 0.5294117647058824}, 'rouge-2': {'f': 0.0799999958146118, 'p': 0.05699481865284974, 'r': 0.13414634146341464}, 'rouge-l': {'f': 0.16966762026205603, 'p': 0.152, 'r': 0.27941176470588236}}]\n",
      "centroid - idf\n",
      "[{'rouge-1': {'f': 0.34123222311987605, 'p': 0.2517482517482518, 'r': 0.5294117647058824}, 'rouge-2': {'f': 0.10563379870958159, 'p': 0.07425742574257425, 'r': 0.18292682926829268}, 'rouge-l': {'f': 0.1316111490036904, 'p': 0.11888111888111888, 'r': 0.25}}]\n",
      "centroid - gi\n",
      "[{'rouge-1': {'f': 0.43023255335857225, 'p': 0.3557692307692308, 'r': 0.5441176470588235}, 'rouge-2': {'f': 0.13389120888149733, 'p': 0.10191082802547771, 'r': 0.1951219512195122}, 'rouge-l': {'f': 0.21454933522986888, 'p': 0.19230769230769232, 'r': 0.29411764705882354}}]\n",
      "centroid - chi2\n",
      "[{'rouge-1': {'f': 0.42307691815910586, 'p': 0.375, 'r': 0.4852941176470588}, 'rouge-2': {'f': 0.13592232530492995, 'p': 0.11290322580645161, 'r': 0.17073170731707318}, 'rouge-l': {'f': 0.23595848595780994, 'p': 0.2159090909090909, 'r': 0.27941176470588236}}]\n",
      "centroid - llr\n",
      "[{'rouge-1': {'f': 0.43023255335857225, 'p': 0.3557692307692308, 'r': 0.5441176470588235}, 'rouge-2': {'f': 0.13389120888149733, 'p': 0.10191082802547771, 'r': 0.1951219512195122}, 'rouge-l': {'f': 0.24673173551445246, 'p': 0.22115384615384615, 'r': 0.3382352941176471}}]\n",
      "centroid_prob - tf\n",
      "[{'rouge-1': {'f': 0.42718446159675744, 'p': 0.3188405797101449, 'r': 0.6470588235294118}, 'rouge-2': {'f': 0.11805555148244615, 'p': 0.0825242718446602, 'r': 0.2073170731707317}, 'rouge-l': {'f': 0.1367393213393347, 'p': 0.12318840579710146, 'r': 0.25}}]\n",
      "centroid_prob - idf\n",
      "[{'rouge-1': {'f': 0.34123222311987605, 'p': 0.2517482517482518, 'r': 0.5294117647058824}, 'rouge-2': {'f': 0.10563379870958159, 'p': 0.07425742574257425, 'r': 0.18292682926829268}, 'rouge-l': {'f': 0.1316111490036904, 'p': 0.11888111888111888, 'r': 0.25}}]\n",
      "centroid_prob - gi\n",
      "[{'rouge-1': {'f': 0.40816326077467724, 'p': 0.3125, 'r': 0.5882352941176471}, 'rouge-2': {'f': 0.12408758704672614, 'p': 0.08854166666666667, 'r': 0.2073170731707317}, 'rouge-l': {'f': 0.18293702396371075, 'p': 0.1640625, 'r': 0.3088235294117647}}]\n",
      "centroid_prob - chi2\n",
      "[{'rouge-1': {'f': 0.4228571381054694, 'p': 0.34579439252336447, 'r': 0.5441176470588235}, 'rouge-2': {'f': 0.13502109252078565, 'p': 0.1032258064516129, 'r': 0.1951219512195122}, 'rouge-l': {'f': 0.20881144545961963, 'p': 0.18691588785046728, 'r': 0.29411764705882354}}]\n",
      "centroid_prob - llr\n",
      "[{'rouge-1': {'f': 0.40816326077467724, 'p': 0.3125, 'r': 0.5882352941176471}, 'rouge-2': {'f': 0.12408758704672614, 'p': 0.08854166666666667, 'r': 0.2073170731707317}, 'rouge-l': {'f': 0.20907088453004388, 'p': 0.1875, 'r': 0.35294117647058826}}]\n"
     ]
    }
   ],
   "source": [
    "methods = [\"kl\", \"lsa\", \"luhn\", \"reduction\"]\n",
    "methods_info = [\"centroid\", \"centroid_prob\"]\n",
    "infos = [\"tf\", \"idf\", \"gi\", \"chi2\", \"llr\"]\n",
    "\n",
    "\n",
    "for method in methods:\n",
    "    print(method)\n",
    "    summary = summarizer.summ_item(item, method=method)\n",
    "    try:\n",
    "        score = rouge_score(abstract, \" \".join(summary))\n",
    "    except:\n",
    "        print(f\"{method} runs dumping.\")\n",
    "    print(score)\n",
    "    \n",
    "for method in methods_info:\n",
    "    for info in infos:\n",
    "        print(f\"{method} - {info}\")\n",
    "        summary = summarizer.summ_item(item, info, method)\n",
    "        score = rouge_score(abstract, \" \".join(summary))\n",
    "        print(score)\n",
    "    \n"
   ]
  },
  {
   "cell_type": "code",
   "execution_count": 32,
   "metadata": {},
   "outputs": [
    {
     "data": {
      "text/plain": [
       "'Unsupervised domain adaptation often relies on transforming the instance representation. However, most such approaches are designed for bag-of-words models, and ignore the structured features present in many problems in NLP. We propose a new technique called marginalized structured dropout, which exploits feature structure to obtain a remarkably simple and efficient feature projection. Applied to the task of fine-grained part-of-speech tagging on a dataset of historical Portuguese, marginalized structured dropout yields state-of-the-art accuracy while increasing speed by more than an order-of-magnitude over previous work.'"
      ]
     },
     "execution_count": 32,
     "metadata": {},
     "output_type": "execute_result"
    }
   ],
   "source": [
    "item.abstract"
   ]
  },
  {
   "cell_type": "code",
   "execution_count": null,
   "metadata": {},
   "outputs": [],
   "source": []
  },
  {
   "cell_type": "code",
   "execution_count": null,
   "metadata": {},
   "outputs": [],
   "source": []
  },
  {
   "cell_type": "code",
   "execution_count": null,
   "metadata": {},
   "outputs": [],
   "source": []
  },
  {
   "cell_type": "code",
   "execution_count": null,
   "metadata": {},
   "outputs": [],
   "source": []
  }
 ],
 "metadata": {
  "kernelspec": {
   "display_name": "ccf",
   "language": "python",
   "name": "ccf"
  },
  "language_info": {
   "codemirror_mode": {
    "name": "ipython",
    "version": 3
   },
   "file_extension": ".py",
   "mimetype": "text/x-python",
   "name": "python",
   "nbconvert_exporter": "python",
   "pygments_lexer": "ipython3",
   "version": "3.6.2"
  }
 },
 "nbformat": 4,
 "nbformat_minor": 2
}
